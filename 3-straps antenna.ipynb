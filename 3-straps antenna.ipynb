{
 "cells": [
  {
   "cell_type": "markdown",
   "id": "83d04801-eeff-4d51-8d42-833ed0a68650",
   "metadata": {},
   "source": [
    "For example:\n",
    "\n",
    "A s-parameter: $S = martix(2\\times2)$\n",
    "\n",
    "The active s-parameter: \n",
    "\\begin{align}\n",
    "  \\Gamma_{1} &=  \\frac{S_{11}a_{1}+S_{12}a_{2}}{a_{1}}, \\\\\n",
    "  \\Gamma_{2} &=  \\frac{S_{22}a_{2}+S_{21}a_{2}}{a_{2}}.\n",
    "\\end{align}\n",
    "Now we assume $a_{2} = ka_{1}$ (The power ratio(k) of $a_1$ and $a_2$)\n",
    "\\begin{align}\n",
    "  \\Gamma_{1} &=  S_{11}+S{12}k, \\\\\n",
    "  \\Gamma_{2} &=  \\frac{S_{22}k+S_{21}}{k}.\n",
    "\\end{align}\n",
    "Couping resistance:\n",
    "\\begin{align}\n",
    "R_{c,1} = Z_{0} \\frac{1-|\\Gamma_{1}|}{1+|\\Gamma_{1}|}, \\\\\n",
    "R_{c,2} = Z_{0} \\frac{1-|\\Gamma_{2}|}{1+|\\Gamma_{2}|}.\n",
    "\\end{align}\n",
    "Thus, the coupling power should be:\n",
    "\\begin{align}\n",
    "P_{1} &= \\frac{1}{2Z_{0}^2} R_{c,1}a_{1}^2 , \\\\\n",
    "P_{2} &= \\frac{1}{2Z_{0}^2} R_{c,2}a_{2}^2 = \\frac{1}{2Z_{0}^2} R_{c,2}a_{1}^2k^2.\n",
    "\\end{align}\n",
    "If we want $P_{1}=P_{2}$, then:\n",
    "\\begin{align}\n",
    "\\frac{R_{c,1}}{R_{c,2}} == k^2.\n",
    "\\end{align}\n",
    "\n",
    "\n"
   ]
  },
  {
   "cell_type": "markdown",
   "id": "33be2a74-5496-4e5a-bafb-9c9eff135e4b",
   "metadata": {},
   "source": [
    "\n"
   ]
  },
  {
   "cell_type": "code",
   "execution_count": null,
   "id": "1c70bdf6-d3ed-4a25-b956-f1973ec7e9a7",
   "metadata": {},
   "outputs": [],
   "source": []
  }
 ],
 "metadata": {
  "kernelspec": {
   "display_name": "Python 3 (ipykernel)",
   "language": "python",
   "name": "python3"
  },
  "language_info": {
   "codemirror_mode": {
    "name": "ipython",
    "version": 3
   },
   "file_extension": ".py",
   "mimetype": "text/x-python",
   "name": "python",
   "nbconvert_exporter": "python",
   "pygments_lexer": "ipython3",
   "version": "3.8.20"
  }
 },
 "nbformat": 4,
 "nbformat_minor": 5
}
